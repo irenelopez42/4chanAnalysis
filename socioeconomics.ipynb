{
 "cells": [
  {
   "cell_type": "markdown",
   "metadata": {},
   "source": [
    "**This notebook analyses possible correlations between hateful speech on 4chan and socioeconomic factors in the USA**"
   ]
  },
  {
   "cell_type": "code",
   "execution_count": 60,
   "metadata": {},
   "outputs": [],
   "source": [
    "import pandas as pd\n",
    "import os"
   ]
  },
  {
   "cell_type": "markdown",
   "metadata": {},
   "source": [
    "import all counts into one dataframe"
   ]
  },
  {
   "cell_type": "code",
   "execution_count": 61,
   "metadata": {},
   "outputs": [],
   "source": [
    "counts_path = \"./Counts\"\n",
    "counts_files = [\"./Counts/\" + p for p in filter(lambda x: \".csv\" in x, os.listdir(counts_path))]"
   ]
  },
  {
   "cell_type": "code",
   "execution_count": 62,
   "metadata": {},
   "outputs": [],
   "source": [
    "df = None\n",
    "for f in counts_files:\n",
    "    if df is None:\n",
    "        df = pd.read_csv(f, index_col=0)\n",
    "    else:\n",
    "        df = df.append(pd.read_csv(f, index_col=0))"
   ]
  },
  {
   "cell_type": "code",
   "execution_count": 63,
   "metadata": {},
   "outputs": [
    {
     "data": {
      "text/html": [
       "<div>\n",
       "<style scoped>\n",
       "    .dataframe tbody tr th:only-of-type {\n",
       "        vertical-align: middle;\n",
       "    }\n",
       "\n",
       "    .dataframe tbody tr th {\n",
       "        vertical-align: top;\n",
       "    }\n",
       "\n",
       "    .dataframe thead th {\n",
       "        text-align: right;\n",
       "    }\n",
       "</style>\n",
       "<table border=\"1\" class=\"dataframe\">\n",
       "  <thead>\n",
       "    <tr style=\"text-align: right;\">\n",
       "      <th></th>\n",
       "      <th>timestamp</th>\n",
       "      <th>content</th>\n",
       "      <th>matched_vocab</th>\n",
       "    </tr>\n",
       "    <tr>\n",
       "      <th>id</th>\n",
       "      <th></th>\n",
       "      <th></th>\n",
       "      <th></th>\n",
       "    </tr>\n",
       "  </thead>\n",
       "  <tbody>\n",
       "    <tr>\n",
       "      <th>52270200</th>\n",
       "      <td>1577401200</td>\n",
       "      <td>judge halt unconstitutional poll tax in north ...</td>\n",
       "      <td>NaN</td>\n",
       "    </tr>\n",
       "    <tr>\n",
       "      <th>52270201</th>\n",
       "      <td>1577401200</td>\n",
       "      <td>522702north carolina democratic attorney gener...</td>\n",
       "      <td>NaN</td>\n",
       "    </tr>\n",
       "    <tr>\n",
       "      <th>52270202</th>\n",
       "      <td>1577401200</td>\n",
       "      <td>522702get fucked with your incendiary title th...</td>\n",
       "      <td>NaN</td>\n",
       "    </tr>\n",
       "    <tr>\n",
       "      <th>52270203</th>\n",
       "      <td>1577401200</td>\n",
       "      <td>522737i am easily triggered over thread title ...</td>\n",
       "      <td>NaN</td>\n",
       "    </tr>\n",
       "    <tr>\n",
       "      <th>52270204</th>\n",
       "      <td>1577401200</td>\n",
       "      <td>522703while opponent say they suppress voting ...</td>\n",
       "      <td>NaN</td>\n",
       "    </tr>\n",
       "  </tbody>\n",
       "</table>\n",
       "</div>"
      ],
      "text/plain": [
       "           timestamp                                            content  \\\n",
       "id                                                                        \n",
       "52270200  1577401200  judge halt unconstitutional poll tax in north ...   \n",
       "52270201  1577401200  522702north carolina democratic attorney gener...   \n",
       "52270202  1577401200  522702get fucked with your incendiary title th...   \n",
       "52270203  1577401200  522737i am easily triggered over thread title ...   \n",
       "52270204  1577401200  522703while opponent say they suppress voting ...   \n",
       "\n",
       "         matched_vocab  \n",
       "id                      \n",
       "52270200           NaN  \n",
       "52270201           NaN  \n",
       "52270202           NaN  \n",
       "52270203           NaN  \n",
       "52270204           NaN  "
      ]
     },
     "execution_count": 63,
     "metadata": {},
     "output_type": "execute_result"
    }
   ],
   "source": [
    "df.head()"
   ]
  },
  {
   "cell_type": "markdown",
   "metadata": {},
   "source": [
    "define hate_count column as number of hateful words"
   ]
  },
  {
   "cell_type": "code",
   "execution_count": 64,
   "metadata": {},
   "outputs": [],
   "source": [
    "def countWords(text):\n",
    "    try:\n",
    "        return len(text.split(\" \"))\n",
    "    except Exception:\n",
    "        return 0"
   ]
  },
  {
   "cell_type": "code",
   "execution_count": 65,
   "metadata": {},
   "outputs": [],
   "source": [
    "df.loc[:,\"hate_count\"] = df.loc[:,\"matched_vocab\"].map(countWords)"
   ]
  },
  {
   "cell_type": "code",
   "execution_count": 66,
   "metadata": {},
   "outputs": [
    {
     "data": {
      "text/html": [
       "<div>\n",
       "<style scoped>\n",
       "    .dataframe tbody tr th:only-of-type {\n",
       "        vertical-align: middle;\n",
       "    }\n",
       "\n",
       "    .dataframe tbody tr th {\n",
       "        vertical-align: top;\n",
       "    }\n",
       "\n",
       "    .dataframe thead th {\n",
       "        text-align: right;\n",
       "    }\n",
       "</style>\n",
       "<table border=\"1\" class=\"dataframe\">\n",
       "  <thead>\n",
       "    <tr style=\"text-align: right;\">\n",
       "      <th></th>\n",
       "      <th>timestamp</th>\n",
       "      <th>content</th>\n",
       "      <th>matched_vocab</th>\n",
       "      <th>hate_count</th>\n",
       "    </tr>\n",
       "    <tr>\n",
       "      <th>id</th>\n",
       "      <th></th>\n",
       "      <th></th>\n",
       "      <th></th>\n",
       "      <th></th>\n",
       "    </tr>\n",
       "  </thead>\n",
       "  <tbody>\n",
       "    <tr>\n",
       "      <th>7328845207</th>\n",
       "      <td>1462631267</td>\n",
       "      <td>southern european wop dago wog greaseball germ...</td>\n",
       "      <td>ape chink coon dago gook greaseball groids hun...</td>\n",
       "      <td>19</td>\n",
       "    </tr>\n",
       "  </tbody>\n",
       "</table>\n",
       "</div>"
      ],
      "text/plain": [
       "             timestamp                                            content  \\\n",
       "id                                                                          \n",
       "7328845207  1462631267  southern european wop dago wog greaseball germ...   \n",
       "\n",
       "                                                matched_vocab  hate_count  \n",
       "id                                                                         \n",
       "7328845207  ape chink coon dago gook greaseball groids hun...          19  "
      ]
     },
     "execution_count": 66,
     "metadata": {},
     "output_type": "execute_result"
    }
   ],
   "source": [
    "count_max = df.loc[:,\"hate_count\"].max()\n",
    "df.loc[df.loc[:,\"hate_count\"] == count_max]"
   ]
  },
  {
   "cell_type": "markdown",
   "metadata": {},
   "source": [
    "convert timestamp to date and month"
   ]
  },
  {
   "cell_type": "code",
   "execution_count": 67,
   "metadata": {},
   "outputs": [],
   "source": [
    "df.loc[:,'date'] = pd.to_datetime(df.loc[:,\"timestamp\"], unit='s')"
   ]
  },
  {
   "cell_type": "code",
   "execution_count": 68,
   "metadata": {},
   "outputs": [],
   "source": [
    "df.loc[:,'month'] = pd.to_datetime(df.loc[:,\"date\"]).dt.to_period('M')"
   ]
  },
  {
   "cell_type": "code",
   "execution_count": 69,
   "metadata": {},
   "outputs": [
    {
     "data": {
      "text/html": [
       "<div>\n",
       "<style scoped>\n",
       "    .dataframe tbody tr th:only-of-type {\n",
       "        vertical-align: middle;\n",
       "    }\n",
       "\n",
       "    .dataframe tbody tr th {\n",
       "        vertical-align: top;\n",
       "    }\n",
       "\n",
       "    .dataframe thead th {\n",
       "        text-align: right;\n",
       "    }\n",
       "</style>\n",
       "<table border=\"1\" class=\"dataframe\">\n",
       "  <thead>\n",
       "    <tr style=\"text-align: right;\">\n",
       "      <th></th>\n",
       "      <th>timestamp</th>\n",
       "      <th>content</th>\n",
       "      <th>matched_vocab</th>\n",
       "      <th>hate_count</th>\n",
       "      <th>date</th>\n",
       "      <th>month</th>\n",
       "    </tr>\n",
       "    <tr>\n",
       "      <th>id</th>\n",
       "      <th></th>\n",
       "      <th></th>\n",
       "      <th></th>\n",
       "      <th></th>\n",
       "      <th></th>\n",
       "      <th></th>\n",
       "    </tr>\n",
       "  </thead>\n",
       "  <tbody>\n",
       "    <tr>\n",
       "      <th>52270200</th>\n",
       "      <td>1577401200</td>\n",
       "      <td>judge halt unconstitutional poll tax in north ...</td>\n",
       "      <td>NaN</td>\n",
       "      <td>0</td>\n",
       "      <td>2019-12-26 23:00:00</td>\n",
       "      <td>2019-12</td>\n",
       "    </tr>\n",
       "    <tr>\n",
       "      <th>52270201</th>\n",
       "      <td>1577401200</td>\n",
       "      <td>522702north carolina democratic attorney gener...</td>\n",
       "      <td>NaN</td>\n",
       "      <td>0</td>\n",
       "      <td>2019-12-26 23:00:00</td>\n",
       "      <td>2019-12</td>\n",
       "    </tr>\n",
       "    <tr>\n",
       "      <th>52270202</th>\n",
       "      <td>1577401200</td>\n",
       "      <td>522702get fucked with your incendiary title th...</td>\n",
       "      <td>NaN</td>\n",
       "      <td>0</td>\n",
       "      <td>2019-12-26 23:00:00</td>\n",
       "      <td>2019-12</td>\n",
       "    </tr>\n",
       "    <tr>\n",
       "      <th>52270203</th>\n",
       "      <td>1577401200</td>\n",
       "      <td>522737i am easily triggered over thread title ...</td>\n",
       "      <td>NaN</td>\n",
       "      <td>0</td>\n",
       "      <td>2019-12-26 23:00:00</td>\n",
       "      <td>2019-12</td>\n",
       "    </tr>\n",
       "    <tr>\n",
       "      <th>52270204</th>\n",
       "      <td>1577401200</td>\n",
       "      <td>522703while opponent say they suppress voting ...</td>\n",
       "      <td>NaN</td>\n",
       "      <td>0</td>\n",
       "      <td>2019-12-26 23:00:00</td>\n",
       "      <td>2019-12</td>\n",
       "    </tr>\n",
       "  </tbody>\n",
       "</table>\n",
       "</div>"
      ],
      "text/plain": [
       "           timestamp                                            content  \\\n",
       "id                                                                        \n",
       "52270200  1577401200  judge halt unconstitutional poll tax in north ...   \n",
       "52270201  1577401200  522702north carolina democratic attorney gener...   \n",
       "52270202  1577401200  522702get fucked with your incendiary title th...   \n",
       "52270203  1577401200  522737i am easily triggered over thread title ...   \n",
       "52270204  1577401200  522703while opponent say they suppress voting ...   \n",
       "\n",
       "         matched_vocab  hate_count                date    month  \n",
       "id                                                               \n",
       "52270200           NaN           0 2019-12-26 23:00:00  2019-12  \n",
       "52270201           NaN           0 2019-12-26 23:00:00  2019-12  \n",
       "52270202           NaN           0 2019-12-26 23:00:00  2019-12  \n",
       "52270203           NaN           0 2019-12-26 23:00:00  2019-12  \n",
       "52270204           NaN           0 2019-12-26 23:00:00  2019-12  "
      ]
     },
     "execution_count": 69,
     "metadata": {},
     "output_type": "execute_result"
    }
   ],
   "source": [
    "df.head()"
   ]
  },
  {
   "cell_type": "code",
   "execution_count": null,
   "metadata": {},
   "outputs": [],
   "source": []
  },
  {
   "cell_type": "markdown",
   "metadata": {},
   "source": [
    "group by month and calculate sum of hate_count"
   ]
  },
  {
   "cell_type": "code",
   "execution_count": 77,
   "metadata": {},
   "outputs": [],
   "source": [
    "counts_monthly = df.groupby(\"month\").sum()[\"hate_count\"]"
   ]
  },
  {
   "cell_type": "code",
   "execution_count": 73,
   "metadata": {},
   "outputs": [
    {
     "data": {
      "text/plain": [
       "month\n",
       "2010-05    277\n",
       "2010-06    438\n",
       "2010-07    521\n",
       "2010-08    330\n",
       "2010-09    401\n",
       "Freq: M, Name: hate_count, dtype: int64"
      ]
     },
     "execution_count": 73,
     "metadata": {},
     "output_type": "execute_result"
    }
   ],
   "source": [
    "counts_monthly.head()"
   ]
  },
  {
   "cell_type": "markdown",
   "metadata": {},
   "source": [
    "export for later use"
   ]
  },
  {
   "cell_type": "code",
   "execution_count": 75,
   "metadata": {},
   "outputs": [],
   "source": [
    "counts_monthly.to_csv(\"./Counts/monthly_hate_counts.csv\")"
   ]
  },
  {
   "cell_type": "markdown",
   "metadata": {},
   "source": [
    "transform to index with base value 100"
   ]
  },
  {
   "cell_type": "code",
   "execution_count": 78,
   "metadata": {},
   "outputs": [],
   "source": [
    "counts_monthly = 100 * (counts_monthly / counts_monthly.iloc[0])"
   ]
  },
  {
   "cell_type": "code",
   "execution_count": 80,
   "metadata": {},
   "outputs": [
    {
     "data": {
      "text/plain": [
       "month\n",
       "2010-05    100.000000\n",
       "2010-06    158.122744\n",
       "2010-07    188.086643\n",
       "2010-08    119.133574\n",
       "2010-09    144.765343\n",
       "Freq: M, Name: hate_count, dtype: float64"
      ]
     },
     "execution_count": 80,
     "metadata": {},
     "output_type": "execute_result"
    }
   ],
   "source": [
    "counts_monthly.head()"
   ]
  },
  {
   "cell_type": "code",
   "execution_count": 85,
   "metadata": {},
   "outputs": [
    {
     "data": {
      "text/plain": [
       "<AxesSubplot:xlabel='month'>"
      ]
     },
     "execution_count": 85,
     "metadata": {},
     "output_type": "execute_result"
    },
    {
     "data": {
      "image/png": "[encoded data removed]",
      "text/plain": [
       "<Figure size 432x288 with 1 Axes>"
      ]
     },
     "metadata": {
      "needs_background": "light"
     },
     "output_type": "display_data"
    }
   ],
   "source": [
    "counts_monthly.plot.line()"
   ]
  },
  {
   "cell_type": "markdown",
   "metadata": {},
   "source": [
    "etract relative change of counts over month"
   ]
  },
  {
   "cell_type": "code",
   "execution_count": 81,
   "metadata": {},
   "outputs": [],
   "source": [
    "counts_monthly_change = counts_monthly.pct_change()"
   ]
  },
  {
   "cell_type": "code",
   "execution_count": 82,
   "metadata": {},
   "outputs": [
    {
     "data": {
      "text/plain": [
       "month\n",
       "2010-05         NaN\n",
       "2010-06    0.581227\n",
       "2010-07    0.189498\n",
       "2010-08   -0.366603\n",
       "2010-09    0.215152\n",
       "Freq: M, Name: hate_count, dtype: float64"
      ]
     },
     "execution_count": 82,
     "metadata": {},
     "output_type": "execute_result"
    }
   ],
   "source": [
    "counts_monthly_change.head()"
   ]
  },
  {
   "cell_type": "code",
   "execution_count": 86,
   "metadata": {},
   "outputs": [
    {
     "data": {
      "text/plain": [
       "<AxesSubplot:xlabel='month'>"
      ]
     },
     "execution_count": 86,
     "metadata": {},
     "output_type": "execute_result"
    },
    {
     "data": {
      "image/png": "[encoded data removed]",
      "text/plain": [
       "<Figure size 432x288 with 1 Axes>"
      ]
     },
     "metadata": {
      "needs_background": "light"
     },
     "output_type": "display_data"
    }
   ],
   "source": [
    "counts_monthly_change.plot.line()"
   ]
  }
 ],
 "metadata": {
  "interpreter": {
   "hash": "b7fa378472cf101e707a5468465ac7543fc3c373c0c5f6dc4778db26bbb1e212"
  },
  "kernelspec": {
   "display_name": "Python 3.9.7 64-bit ('base': conda)",
   "language": "python",
   "name": "python3"
  },
  "language_info": {
   "codemirror_mode": {
    "name": "ipython",
    "version": 3
   },
   "file_extension": ".py",
   "mimetype": "text/x-python",
   "name": "python",
   "nbconvert_exporter": "python",
   "pygments_lexer": "ipython3",
   "version": "3.9.7"
  },
  "orig_nbformat": 4
 },
 "nbformat": 4,
 "nbformat_minor": 2
}

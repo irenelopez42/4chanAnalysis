{
 "cells": [
  {
   "cell_type": "code",
   "execution_count": null,
   "metadata": {},
   "outputs": [],
   "source": [
    "import pandas as pd\n",
    "import numpy as np\n",
    "import seaborn as sb\n",
    "from matplotlib import pylab as plt"
   ]
  },
  {
   "cell_type": "markdown",
   "metadata": {},
   "source": [
    "***Load and clean stock market data***"
   ]
  },
  {
   "cell_type": "code",
   "execution_count": null,
   "metadata": {},
   "outputs": [],
   "source": [
    "prices = pd.read_csv(\"/Users/vincent/Development/CSS/4chanAnalysis/usa_indicators/stock_prices_latest.csv\")\n",
    "prices.head()"
   ]
  },
  {
   "cell_type": "code",
   "execution_count": null,
   "metadata": {},
   "outputs": [],
   "source": [
    "prices = prices.loc[:,('symbol','date','close_adjusted')]"
   ]
  },
  {
   "cell_type": "code",
   "execution_count": null,
   "metadata": {},
   "outputs": [],
   "source": [
    "prices.loc[:,\"date\"] = pd.to_datetime(prices.loc[:,\"date\"]).dt.to_period(\"M\")"
   ]
  },
  {
   "cell_type": "code",
   "execution_count": null,
   "metadata": {},
   "outputs": [],
   "source": [
    "aapl = prices.loc[prices.loc[:,\"symbol\"]==\"AAPL\"].drop(\"symbol\",axis=1)\n",
    "msft = prices.loc[prices.loc[:,\"symbol\"]==\"MSFT\"].drop(\"symbol\",axis=1)"
   ]
  },
  {
   "cell_type": "markdown",
   "metadata": {},
   "source": [
    "calculate monthly variance and spread"
   ]
  },
  {
   "cell_type": "code",
   "execution_count": null,
   "metadata": {},
   "outputs": [],
   "source": [
    "aapl_var = aapl.groupby(\"date\")[\"close_adjusted\"].var()\n",
    "aapl_spread = aapl.groupby(\"date\")[\"close_adjusted\"].max() - aapl.groupby(\"date\")[\"close_adjusted\"].min()\n",
    "msft_var = msft.groupby(\"date\")[\"close_adjusted\"].var()\n",
    "msft_spread = msft.groupby(\"date\")[\"close_adjusted\"].max() - msft.groupby(\"date\")[\"close_adjusted\"].min()"
   ]
  },
  {
   "cell_type": "code",
   "execution_count": null,
   "metadata": {},
   "outputs": [],
   "source": [
    "aapl_spread.head()"
   ]
  },
  {
   "cell_type": "markdown",
   "metadata": {},
   "source": [
    "***Load hate counts***"
   ]
  },
  {
   "cell_type": "code",
   "execution_count": null,
   "metadata": {},
   "outputs": [],
   "source": [
    "pol_counts = [\"./Counts/pol_counts_part0.csv\",\"./Counts/pol_counts_part1.csv\"]\n",
    "news_counts = \"./Counts/news_counts.csv\"\n",
    "sci_counts = \"./Counts/sci_counts.csv\"\n",
    "adv_counts = \"./Counts/adv_counts.csv\""
   ]
  },
  {
   "cell_type": "code",
   "execution_count": null,
   "metadata": {},
   "outputs": [],
   "source": [
    "pol_counts = pd.read_csv(pol_counts[0],index_col=0).append(pd.read_csv(pol_counts[1], index_col=0))\n",
    "sci_counts = pd.read_csv(sci_counts, index_col=0)\n",
    "news_counts = pd.read_csv(news_counts, index_col=0)\n",
    "adv_counts = pd.read_csv(adv_counts, index_col=0)"
   ]
  },
  {
   "cell_type": "code",
   "execution_count": null,
   "metadata": {},
   "outputs": [],
   "source": [
    "def countWords(text):\n",
    "    try:\n",
    "        return min(1,len(text.split(\" \")))\n",
    "    except Exception:\n",
    "        return 0"
   ]
  },
  {
   "cell_type": "code",
   "execution_count": null,
   "metadata": {},
   "outputs": [],
   "source": [
    "pol_counts.loc[:,\"board\"] = \"pol\"\n",
    "sci_counts.loc[:,\"board\"] = \"sci\"\n",
    "adv_counts.loc[:,\"board\"] = \"adv\"\n",
    "news_counts.loc[:,\"board\"] = \"news\""
   ]
  },
  {
   "cell_type": "code",
   "execution_count": null,
   "metadata": {},
   "outputs": [],
   "source": [
    "for df in [pol_counts,sci_counts,adv_counts,news_counts]:\n",
    "    df.loc[:,\"hate_count\"] = df.loc[:,\"matched_vocab\"].map(countWords)\n",
    "    df.loc[:,'date'] = pd.to_datetime(df.loc[:,\"timestamp\"], unit='s')\n",
    "    df.loc[:,'month'] = pd.to_datetime(df.loc[:,\"date\"]).dt.to_period('M')"
   ]
  },
  {
   "cell_type": "code",
   "execution_count": null,
   "metadata": {},
   "outputs": [],
   "source": [
    "pol_hate_share_monthly = pol_counts.groupby(\"month\").sum()[\"hate_count\"] / pol_counts.groupby(\"month\")[\"content\"].count()\n",
    "sci_hate_share_monthly = sci_counts.groupby(\"month\").sum()[\"hate_count\"] / sci_counts.groupby(\"month\")[\"content\"].count()\n",
    "adv_hate_share_monthly = adv_counts.groupby(\"month\").sum()[\"hate_count\"] / adv_counts.groupby(\"month\")[\"content\"].count()\n",
    "news_hate_share_monthly = news_counts.groupby(\"month\").sum()[\"hate_count\"] / news_counts.groupby(\"month\")[\"content\"].count()"
   ]
  },
  {
   "cell_type": "code",
   "execution_count": null,
   "metadata": {},
   "outputs": [],
   "source": [
    "hate_share_monthly = pd.DataFrame(index=sci_hate_share_monthly.index, columns=[\"sci\",\"news\",\"adv\",\"pol\"])\n",
    "hate_share_monthly.loc[sci_hate_share_monthly.index, \"sci\"] = sci_hate_share_monthly\n",
    "hate_share_monthly.loc[:,'news'] = news_hate_share_monthly\n",
    "hate_share_monthly.loc[:, \"adv\"] = adv_hate_share_monthly\n",
    "hate_share_monthly.loc[:, \"pol\"] = pol_hate_share_monthly"
   ]
  },
  {
   "cell_type": "markdown",
   "metadata": {},
   "source": [
    "select date range of interest"
   ]
  },
  {
   "cell_type": "code",
   "execution_count": null,
   "metadata": {},
   "outputs": [],
   "source": [
    "shared_index = hate_share_monthly.join(aapl_var).dropna().index"
   ]
  },
  {
   "cell_type": "code",
   "execution_count": null,
   "metadata": {},
   "outputs": [],
   "source": [
    "shared_index"
   ]
  },
  {
   "cell_type": "code",
   "execution_count": null,
   "metadata": {},
   "outputs": [],
   "source": [
    "hate_share_monthly = hate_share_monthly.loc[shared_index]\n",
    "aapl_spread = aapl_spread.loc[shared_index]\n",
    "aapl_var = aapl_var.loc[shared_index]\n",
    "msft_var = msft_var.loc[shared_index]\n",
    "msft_spread = msft_spread.loc[shared_index]"
   ]
  },
  {
   "cell_type": "markdown",
   "metadata": {},
   "source": [
    "***Standardize data***"
   ]
  },
  {
   "cell_type": "code",
   "execution_count": null,
   "metadata": {},
   "outputs": [],
   "source": [
    "def standardize(data: pd.Series) -> pd.Series:\n",
    "    return (data - data.median()) / data.std()"
   ]
  },
  {
   "cell_type": "code",
   "execution_count": null,
   "metadata": {},
   "outputs": [],
   "source": [
    "hate_share_monthly = hate_share_monthly.apply(standardize, axis=0)\n",
    "aapl_spread = standardize(aapl_spread)\n",
    "aapl_var = standardize(aapl_var)\n",
    "msft_var = standardize(msft_var)\n",
    "msft_spread = standardize(msft_spread)"
   ]
  },
  {
   "cell_type": "code",
   "execution_count": null,
   "metadata": {},
   "outputs": [],
   "source": [
    "aapl = pd.DataFrame(index=aapl_spread.index)\n",
    "aapl.loc[:,\"var\"] = aapl_var\n",
    "aapl.loc[:,\"spread\"] = aapl_spread\n",
    "msft = pd.DataFrame(index=msft_spread.index)\n",
    "msft.loc[:,\"var\"] = msft_var\n",
    "msft.loc[:,\"spread\"] = msft_spread"
   ]
  },
  {
   "cell_type": "code",
   "execution_count": null,
   "metadata": {},
   "outputs": [],
   "source": [
    "msft.plot.line()"
   ]
  },
  {
   "cell_type": "markdown",
   "metadata": {},
   "source": [
    "***Calculate covariances***"
   ]
  },
  {
   "cell_type": "code",
   "execution_count": null,
   "metadata": {},
   "outputs": [],
   "source": [
    "msft_cov = msft.join(hate_share_monthly).cov()\n",
    "aapl_cov = aapl.join(hate_share_monthly).cov()"
   ]
  },
  {
   "cell_type": "markdown",
   "metadata": {},
   "source": [
    "***Plot heatmaps***"
   ]
  },
  {
   "cell_type": "code",
   "execution_count": null,
   "metadata": {},
   "outputs": [],
   "source": [
    "def heatmap(data):\n",
    "    mask = np.zeros_like(data.to_numpy())\n",
    "    mask[np.triu_indices_from(mask)] = True\n",
    "    with sb.axes_style(\"white\"):\n",
    "        ax = sb.heatmap(data.to_numpy(), mask=mask, vmax=1.0, vmin=-1, center=0, square=True, xticklabels=data.index, yticklabels=data.index)\n",
    "        plt.show()"
   ]
  },
  {
   "cell_type": "code",
   "execution_count": null,
   "metadata": {},
   "outputs": [],
   "source": [
    "heatmap(aapl_cov)"
   ]
  },
  {
   "cell_type": "code",
   "execution_count": null,
   "metadata": {},
   "outputs": [],
   "source": [
    "heatmap(msft_cov)"
   ]
  }
 ],
 "metadata": {
  "interpreter": {
   "hash": "b7fa378472cf101e707a5468465ac7543fc3c373c0c5f6dc4778db26bbb1e212"
  },
  "kernelspec": {
   "display_name": "Python 3.9.7 ('base')",
   "language": "python",
   "name": "python3"
  },
  "language_info": {
   "codemirror_mode": {
    "name": "ipython",
    "version": 3
   },
   "file_extension": ".py",
   "mimetype": "text/x-python",
   "name": "python",
   "nbconvert_exporter": "python",
   "pygments_lexer": "ipython3",
   "version": "3.9.7"
  },
  "orig_nbformat": 4
 },
 "nbformat": 4,
 "nbformat_minor": 2
}

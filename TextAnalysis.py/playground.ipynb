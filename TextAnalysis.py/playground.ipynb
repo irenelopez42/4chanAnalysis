{
 "cells": [
  {
   "cell_type": "code",
   "execution_count": 1,
   "metadata": {},
   "outputs": [
    {
     "name": "stderr",
     "output_type": "stream",
     "text": [
      "[nltk_data] Downloading package punkt to /Users/vincent/nltk_data...\n",
      "[nltk_data]   Package punkt is already up-to-date!\n",
      "[nltk_data] Downloading package stopwords to\n",
      "[nltk_data]     /Users/vincent/nltk_data...\n",
      "[nltk_data]   Package stopwords is already up-to-date!\n",
      "[nltk_data] Downloading package wordnet to /Users/vincent/nltk_data...\n",
      "[nltk_data]   Package wordnet is already up-to-date!\n",
      "[nltk_data] Downloading package omw-1.4 to /Users/vincent/nltk_data...\n",
      "[nltk_data]   Package omw-1.4 is already up-to-date!\n",
      "[nltk_data] Downloading package punkt to /Users/vincent/nltk_data...\n",
      "[nltk_data]   Package punkt is already up-to-date!\n",
      "[nltk_data] Downloading package stopwords to\n",
      "[nltk_data]     /Users/vincent/nltk_data...\n",
      "[nltk_data]   Package stopwords is already up-to-date!\n",
      "[nltk_data] Downloading package wordnet to /Users/vincent/nltk_data...\n",
      "[nltk_data]   Package wordnet is already up-to-date!\n",
      "[nltk_data] Downloading package omw-1.4 to /Users/vincent/nltk_data...\n",
      "[nltk_data]   Package omw-1.4 is already up-to-date!\n"
     ]
    },
    {
     "data": {
      "text/plain": [
       "True"
      ]
     },
     "execution_count": 1,
     "metadata": {},
     "output_type": "execute_result"
    }
   ],
   "source": [
    "import chan_io as io\n",
    "import chan_language as lang\n",
    "import json\n",
    "import pandas as pd\n",
    "import sys\n",
    "import nltk\n",
    "from tensorflow import keras\n",
    "from tensorflow import strings\n",
    "import tensorflow as tf\n",
    "import re, string\n",
    "from nltk.corpus import stopwords\n",
    "from nltk.stem import WordNetLemmatizer\n",
    "from nltk.tokenize import word_tokenize\n",
    "from datetime import datetime\n",
    "import numpy as np\n",
    "\n",
    "nltk.download('punkt')\n",
    "nltk.download('stopwords')\n",
    "nltk.download('wordnet')\n",
    "nltk.download('omw-1.4')"
   ]
  },
  {
   "cell_type": "markdown",
   "metadata": {},
   "source": [
    "**Playground for testing analysis tools**"
   ]
  },
  {
   "cell_type": "code",
   "execution_count": 2,
   "metadata": {},
   "outputs": [],
   "source": [
    "paths = ['./exampleThreads.json']\n",
    "paths = io.getFiles(paths)"
   ]
  },
  {
   "cell_type": "code",
   "execution_count": 3,
   "metadata": {},
   "outputs": [
    {
     "data": {
      "text/plain": [
       "['./exampleThreads.json']"
      ]
     },
     "execution_count": 3,
     "metadata": {},
     "output_type": "execute_result"
    }
   ],
   "source": [
    "paths"
   ]
  },
  {
   "cell_type": "markdown",
   "metadata": {},
   "source": [
    "make dataframe"
   ]
  },
  {
   "cell_type": "code",
   "execution_count": 4,
   "metadata": {},
   "outputs": [
    {
     "name": "stdout",
     "output_type": "stream",
     "text": [
      "Metal device set to: Apple M1\n",
      "\n",
      "systemMemory: 16.00 GB\n",
      "maxCacheSize: 5.33 GB\n",
      "\n"
     ]
    },
    {
     "name": "stderr",
     "output_type": "stream",
     "text": [
      "2022-01-26 18:37:45.116027: I tensorflow/core/common_runtime/pluggable_device/pluggable_device_factory.cc:305] Could not identify NUMA node of platform GPU ID 0, defaulting to 0. Your kernel may not have been built with NUMA support.\n",
      "2022-01-26 18:37:45.116120: I tensorflow/core/common_runtime/pluggable_device/pluggable_device_factory.cc:271] Created TensorFlow device (/job:localhost/replica:0/task:0/device:GPU:0 with 0 MB memory) -> physical PluggableDevice (device: 0, name: METAL, pci bus id: <undefined>)\n"
     ]
    }
   ],
   "source": [
    "df = io.loadPostsFromJson(paths)"
   ]
  },
  {
   "cell_type": "code",
   "execution_count": 5,
   "metadata": {},
   "outputs": [
    {
     "data": {
      "text/html": [
       "<div>\n",
       "<style scoped>\n",
       "    .dataframe tbody tr th:only-of-type {\n",
       "        vertical-align: middle;\n",
       "    }\n",
       "\n",
       "    .dataframe tbody tr th {\n",
       "        vertical-align: top;\n",
       "    }\n",
       "\n",
       "    .dataframe thead th {\n",
       "        text-align: right;\n",
       "    }\n",
       "</style>\n",
       "<table border=\"1\" class=\"dataframe\">\n",
       "  <thead>\n",
       "    <tr style=\"text-align: right;\">\n",
       "      <th></th>\n",
       "      <th>timestamp</th>\n",
       "      <th>content</th>\n",
       "    </tr>\n",
       "    <tr>\n",
       "      <th>id</th>\n",
       "      <th></th>\n",
       "      <th></th>\n",
       "    </tr>\n",
       "  </thead>\n",
       "  <tbody>\n",
       "    <tr>\n",
       "      <th>2485190600</th>\n",
       "      <td>1388521688</td>\n",
       "      <td>friendly reminder that making fun of dead nazi...</td>\n",
       "    </tr>\n",
       "    <tr>\n",
       "      <th>2483806200</th>\n",
       "      <td>1388482949</td>\n",
       "      <td>what am i looking at</td>\n",
       "    </tr>\n",
       "    <tr>\n",
       "      <th>2483806201</th>\n",
       "      <td>1388482949</td>\n",
       "      <td>race war now</td>\n",
       "    </tr>\n",
       "    <tr>\n",
       "      <th>2483806202</th>\n",
       "      <td>1388482949</td>\n",
       "      <td>fight corruption using knowledge whats the pro...</td>\n",
       "    </tr>\n",
       "    <tr>\n",
       "      <th>2483806203</th>\n",
       "      <td>1388482949</td>\n",
       "      <td>dont get your knickers in a twist about this i...</td>\n",
       "    </tr>\n",
       "    <tr>\n",
       "      <th>2482359200</th>\n",
       "      <td>1388452621</td>\n",
       "      <td>whitey why you afraid of china 中國是狗屎 中國是廁所 我來自美國</td>\n",
       "    </tr>\n",
       "    <tr>\n",
       "      <th>2482359201</th>\n",
       "      <td>1388452621</td>\n",
       "      <td>because they are going to destroy the planet w...</td>\n",
       "    </tr>\n",
       "    <tr>\n",
       "      <th>2482359202</th>\n",
       "      <td>1388452621</td>\n",
       "      <td>sauce</td>\n",
       "    </tr>\n",
       "    <tr>\n",
       "      <th>2482359203</th>\n",
       "      <td>1388452621</td>\n",
       "      <td>shut the fuck up chink monkey</td>\n",
       "    </tr>\n",
       "    <tr>\n",
       "      <th>2482359204</th>\n",
       "      <td>1388452621</td>\n",
       "      <td>chinese is talking about china being dogshit kek</td>\n",
       "    </tr>\n",
       "  </tbody>\n",
       "</table>\n",
       "</div>"
      ],
      "text/plain": [
       "             timestamp                                            content\n",
       "id                                                                       \n",
       "2485190600  1388521688  friendly reminder that making fun of dead nazi...\n",
       "2483806200  1388482949                               what am i looking at\n",
       "2483806201  1388482949                                       race war now\n",
       "2483806202  1388482949  fight corruption using knowledge whats the pro...\n",
       "2483806203  1388482949  dont get your knickers in a twist about this i...\n",
       "2482359200  1388452621   whitey why you afraid of china 中國是狗屎 中國是廁所 我來自美國\n",
       "2482359201  1388452621  because they are going to destroy the planet w...\n",
       "2482359202  1388452621                                              sauce\n",
       "2482359203  1388452621                      shut the fuck up chink monkey\n",
       "2482359204  1388452621   chinese is talking about china being dogshit kek"
      ]
     },
     "execution_count": 5,
     "metadata": {},
     "output_type": "execute_result"
    }
   ],
   "source": [
    "df.head(10)"
   ]
  },
  {
   "cell_type": "markdown",
   "metadata": {},
   "source": [
    "get vocab"
   ]
  },
  {
   "cell_type": "code",
   "execution_count": 6,
   "metadata": {},
   "outputs": [],
   "source": [
    "vocab = io.extractVocab(\"./hate_vocabulary.json\")"
   ]
  },
  {
   "cell_type": "code",
   "execution_count": 7,
   "metadata": {},
   "outputs": [
    {
     "data": {
      "text/plain": [
       "array(['abbo', 'abbos', 'abc', 'abcd', 'abcds', 'abo', 'af',\n",
       "       'african catfish', 'africant', 'africants'], dtype='<U22')"
      ]
     },
     "execution_count": 7,
     "metadata": {},
     "output_type": "execute_result"
    }
   ],
   "source": [
    "vocab[:10]"
   ]
  },
  {
   "cell_type": "code",
   "execution_count": 8,
   "metadata": {},
   "outputs": [],
   "source": [
    "vocab = np.array([\"chink\",\"dogshit\",\"shit\",\"war\",\"fuck\"])"
   ]
  },
  {
   "cell_type": "code",
   "execution_count": 9,
   "metadata": {},
   "outputs": [
    {
     "name": "stderr",
     "output_type": "stream",
     "text": [
      "2022-01-26 18:38:33.389106: W tensorflow/core/platform/profile_utils/cpu_utils.cc:128] Failed to get CPU frequency: 0 Hz\n"
     ]
    }
   ],
   "source": [
    "df.loc[:, \"vocab_matches\"] = lang.mapTokenCounts(df.loc[:,\"content\"].to_numpy(), vocab)"
   ]
  },
  {
   "cell_type": "code",
   "execution_count": 10,
   "metadata": {},
   "outputs": [
    {
     "data": {
      "text/html": [
       "<div>\n",
       "<style scoped>\n",
       "    .dataframe tbody tr th:only-of-type {\n",
       "        vertical-align: middle;\n",
       "    }\n",
       "\n",
       "    .dataframe tbody tr th {\n",
       "        vertical-align: top;\n",
       "    }\n",
       "\n",
       "    .dataframe thead th {\n",
       "        text-align: right;\n",
       "    }\n",
       "</style>\n",
       "<table border=\"1\" class=\"dataframe\">\n",
       "  <thead>\n",
       "    <tr style=\"text-align: right;\">\n",
       "      <th></th>\n",
       "      <th>timestamp</th>\n",
       "      <th>content</th>\n",
       "      <th>vocab_matches</th>\n",
       "    </tr>\n",
       "    <tr>\n",
       "      <th>id</th>\n",
       "      <th></th>\n",
       "      <th></th>\n",
       "      <th></th>\n",
       "    </tr>\n",
       "  </thead>\n",
       "  <tbody>\n",
       "    <tr>\n",
       "      <th>2485190600</th>\n",
       "      <td>1388521688</td>\n",
       "      <td>friendly reminder that making fun of dead nazi...</td>\n",
       "      <td></td>\n",
       "    </tr>\n",
       "    <tr>\n",
       "      <th>2483806200</th>\n",
       "      <td>1388482949</td>\n",
       "      <td>what am i looking at</td>\n",
       "      <td></td>\n",
       "    </tr>\n",
       "    <tr>\n",
       "      <th>2483806201</th>\n",
       "      <td>1388482949</td>\n",
       "      <td>race war now</td>\n",
       "      <td>war</td>\n",
       "    </tr>\n",
       "    <tr>\n",
       "      <th>2483806202</th>\n",
       "      <td>1388482949</td>\n",
       "      <td>fight corruption using knowledge whats the pro...</td>\n",
       "      <td></td>\n",
       "    </tr>\n",
       "    <tr>\n",
       "      <th>2483806203</th>\n",
       "      <td>1388482949</td>\n",
       "      <td>dont get your knickers in a twist about this i...</td>\n",
       "      <td></td>\n",
       "    </tr>\n",
       "    <tr>\n",
       "      <th>2482359200</th>\n",
       "      <td>1388452621</td>\n",
       "      <td>whitey why you afraid of china 中國是狗屎 中國是廁所 我來自美國</td>\n",
       "      <td></td>\n",
       "    </tr>\n",
       "    <tr>\n",
       "      <th>2482359201</th>\n",
       "      <td>1388452621</td>\n",
       "      <td>because they are going to destroy the planet w...</td>\n",
       "      <td>shit</td>\n",
       "    </tr>\n",
       "    <tr>\n",
       "      <th>2482359202</th>\n",
       "      <td>1388452621</td>\n",
       "      <td>sauce</td>\n",
       "      <td></td>\n",
       "    </tr>\n",
       "    <tr>\n",
       "      <th>2482359203</th>\n",
       "      <td>1388452621</td>\n",
       "      <td>shut the fuck up chink monkey</td>\n",
       "      <td>chink fuck</td>\n",
       "    </tr>\n",
       "    <tr>\n",
       "      <th>2482359204</th>\n",
       "      <td>1388452621</td>\n",
       "      <td>chinese is talking about china being dogshit kek</td>\n",
       "      <td>dogshit</td>\n",
       "    </tr>\n",
       "  </tbody>\n",
       "</table>\n",
       "</div>"
      ],
      "text/plain": [
       "             timestamp                                            content  \\\n",
       "id                                                                          \n",
       "2485190600  1388521688  friendly reminder that making fun of dead nazi...   \n",
       "2483806200  1388482949                               what am i looking at   \n",
       "2483806201  1388482949                                       race war now   \n",
       "2483806202  1388482949  fight corruption using knowledge whats the pro...   \n",
       "2483806203  1388482949  dont get your knickers in a twist about this i...   \n",
       "2482359200  1388452621   whitey why you afraid of china 中國是狗屎 中國是廁所 我來自美國   \n",
       "2482359201  1388452621  because they are going to destroy the planet w...   \n",
       "2482359202  1388452621                                              sauce   \n",
       "2482359203  1388452621                      shut the fuck up chink monkey   \n",
       "2482359204  1388452621   chinese is talking about china being dogshit kek   \n",
       "\n",
       "           vocab_matches  \n",
       "id                        \n",
       "2485190600                \n",
       "2483806200                \n",
       "2483806201           war  \n",
       "2483806202                \n",
       "2483806203                \n",
       "2482359200                \n",
       "2482359201          shit  \n",
       "2482359202                \n",
       "2482359203    chink fuck  \n",
       "2482359204       dogshit  "
      ]
     },
     "execution_count": 10,
     "metadata": {},
     "output_type": "execute_result"
    }
   ],
   "source": [
    "df.head(10)"
   ]
  }
 ],
 "metadata": {
  "interpreter": {
   "hash": "b7fa378472cf101e707a5468465ac7543fc3c373c0c5f6dc4778db26bbb1e212"
  },
  "kernelspec": {
   "display_name": "Python 3.9.7 64-bit ('base': conda)",
   "language": "python",
   "name": "python3"
  },
  "language_info": {
   "codemirror_mode": {
    "name": "ipython",
    "version": 3
   },
   "file_extension": ".py",
   "mimetype": "text/x-python",
   "name": "python",
   "nbconvert_exporter": "python",
   "pygments_lexer": "ipython3",
   "version": "3.9.7"
  },
  "orig_nbformat": 4
 },
 "nbformat": 4,
 "nbformat_minor": 2
}

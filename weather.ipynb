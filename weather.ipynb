{
 "cells": [
  {
   "cell_type": "code",
   "execution_count": null,
   "metadata": {},
   "outputs": [],
   "source": [
    "import pandas as pd\n",
    "import numpy as np\n",
    "import seaborn as sb\n",
    "from matplotlib import pylab as plt"
   ]
  },
  {
   "cell_type": "markdown",
   "metadata": {},
   "source": [
    "***Load and filter weather data***"
   ]
  },
  {
   "cell_type": "code",
   "execution_count": null,
   "metadata": {},
   "outputs": [],
   "source": [
    "weather_denver = pd.read_csv(\"/Users/vincent/Development/CSS/4chanAnalysis/usa_indicators/weather_denver.csv\")\n",
    "weather_san_fran = pd.read_csv(\"/Users/vincent/Development/CSS/4chanAnalysis/usa_indicators/weather_san_fran.csv\")\n",
    "weather_washington = pd.read_csv(\"/Users/vincent/Development/CSS/4chanAnalysis/usa_indicators/weather_washington.csv\")"
   ]
  },
  {
   "cell_type": "code",
   "execution_count": null,
   "metadata": {},
   "outputs": [],
   "source": [
    "weather = weather_denver.append(weather_washington).append(weather_san_fran).dropna(axis=1, how='all')"
   ]
  },
  {
   "cell_type": "code",
   "execution_count": null,
   "metadata": {},
   "outputs": [],
   "source": [
    "weather.head()"
   ]
  },
  {
   "cell_type": "code",
   "execution_count": null,
   "metadata": {},
   "outputs": [],
   "source": [
    "weather.columns"
   ]
  },
  {
   "cell_type": "code",
   "execution_count": null,
   "metadata": {},
   "outputs": [],
   "source": [
    "weather = weather.drop(['STATION','LATITUDE', 'LONGITUDE', 'ELEVATION'], axis=1).drop(list(filter(lambda x: 'ATTRIBUTES' in x, weather.columns)), axis=1)"
   ]
  },
  {
   "cell_type": "code",
   "execution_count": null,
   "metadata": {},
   "outputs": [],
   "source": [
    "weather.columns"
   ]
  },
  {
   "cell_type": "code",
   "execution_count": null,
   "metadata": {},
   "outputs": [],
   "source": [
    "temperatures = weather.loc[:,(\"DATE\",\"NAME\",\"TAVG\",\"TMIN\",\"TMAX\")]\n",
    "sunshine = weather.loc[:,(\"DATE\",\"NAME\",\"TSUN\",\"PSUN\")]"
   ]
  },
  {
   "cell_type": "code",
   "execution_count": null,
   "metadata": {},
   "outputs": [],
   "source": [
    "temperatures.loc[:,\"DATE\"] = pd.to_datetime(temperatures.loc[:,\"DATE\"]).dt.to_period(\"M\")\n",
    "sunshine.loc[:,\"DATE\"] = pd.to_datetime(sunshine.loc[:,\"DATE\"]).dt.to_period(\"M\")\n",
    "temperatures.loc[:,(\"TAVG\",\"TMIN\",\"TMAX\")] = temperatures.loc[:,(\"TAVG\",\"TMIN\",\"TMAX\")].apply(np.float64, axis=0)\n",
    "sunshine.loc[:,(\"TSUN\",\"PSUN\")] = sunshine.loc[:,(\"TSUN\",\"PSUN\")]"
   ]
  },
  {
   "cell_type": "code",
   "execution_count": null,
   "metadata": {},
   "outputs": [],
   "source": [
    "temperatures.head()"
   ]
  },
  {
   "cell_type": "markdown",
   "metadata": {},
   "source": [
    "Create averages"
   ]
  },
  {
   "cell_type": "code",
   "execution_count": null,
   "metadata": {},
   "outputs": [],
   "source": [
    "temperatures_avg = temperatures.groupby(\"DATE\").mean()\n",
    "temperatures_avg.head()"
   ]
  },
  {
   "cell_type": "code",
   "execution_count": null,
   "metadata": {},
   "outputs": [],
   "source": [
    "sunshine.loc[:,\"NAME\"].unique()"
   ]
  },
  {
   "cell_type": "markdown",
   "metadata": {},
   "source": [
    "seperate by region"
   ]
  },
  {
   "cell_type": "code",
   "execution_count": null,
   "metadata": {},
   "outputs": [],
   "source": [
    "temperatures_denv = temperatures.loc[temperatures.loc[:,'NAME']=='DENVER CENTRAL PARK, CO US'].drop(\"NAME\",axis=1)\n",
    "temperatures_wash = temperatures.loc[temperatures.loc[:,'NAME']=='WASHINGTON REAGAN NATIONAL AIRPORT, VA US'].drop(\"NAME\",axis=1)\n",
    "temperatures_sanfran = temperatures.loc[temperatures.loc[:,'NAME']=='SAN FRANCISCO INTERNATIONAL AIRPORT, CA US'].drop(\"NAME\",axis=1)\n",
    "sunshine_denv = sunshine.loc[sunshine.loc[:,'NAME']=='DENVER CENTRAL PARK, CO US'].drop(\"NAME\",axis=1)\n",
    "sunshine_wash = sunshine.loc[sunshine.loc[:,'NAME']=='WASHINGTON REAGAN NATIONAL AIRPORT, VA US'].drop(\"NAME\",axis=1)\n",
    "sunshine_sanfran = sunshine.loc[sunshine.loc[:,'NAME']=='SAN FRANCISCO INTERNATIONAL AIRPORT, CA US'].drop(\"NAME\",axis=1)"
   ]
  },
  {
   "cell_type": "code",
   "execution_count": null,
   "metadata": {},
   "outputs": [],
   "source": [
    "sunshine_denv.head()"
   ]
  },
  {
   "cell_type": "code",
   "execution_count": null,
   "metadata": {},
   "outputs": [],
   "source": [
    "temperatures_denv.index = temperatures_denv.loc[:,\"DATE\"]\n",
    "temperatures_denv = temperatures_denv.drop(\"DATE\",axis=1)\n",
    "temperatures_wash.index = temperatures_wash.loc[:,\"DATE\"]\n",
    "temperatures_wash = temperatures_wash.drop(\"DATE\",axis=1)\n",
    "temperatures_sanfran.index = temperatures_sanfran.loc[:,\"DATE\"]\n",
    "temperatures_sanfran = temperatures_sanfran.drop(\"DATE\",axis=1)\n",
    "sunshine_denv.index = sunshine_denv.loc[:,\"DATE\"]\n",
    "sunshine_denv = sunshine_denv.drop(\"DATE\",axis=1)\n",
    "sunshine_wash.index = sunshine_wash.loc[:,\"DATE\"]\n",
    "sunshine_wash = sunshine_wash.drop(\"DATE\",axis=1)\n",
    "sunshine_sanfran.index = sunshine_sanfran.loc[:,\"DATE\"]\n",
    "sunshine_sanfran = sunshine_sanfran.drop(\"DATE\",axis=1)\n"
   ]
  },
  {
   "cell_type": "code",
   "execution_count": null,
   "metadata": {},
   "outputs": [],
   "source": [
    "sunshine_denv.head()"
   ]
  },
  {
   "cell_type": "code",
   "execution_count": null,
   "metadata": {},
   "outputs": [],
   "source": [
    "sunshine = {\"denv\" : sunshine_denv, \"sanfran\" : sunshine_sanfran, \"wash\" : sunshine_wash}\n",
    "temperatures = {\"denv\" : temperatures_denv, \"sanfran\" : temperatures_sanfran, \"wash\" : temperatures_wash}"
   ]
  },
  {
   "cell_type": "markdown",
   "metadata": {},
   "source": [
    "***Import counts***"
   ]
  },
  {
   "cell_type": "code",
   "execution_count": null,
   "metadata": {},
   "outputs": [],
   "source": [
    "pol_counts = [\"./Counts/pol_counts_part0.csv\",\"./Counts/pol_counts_part1.csv\"]\n",
    "news_counts = \"./Counts/news_counts.csv\"\n",
    "sci_counts = \"./Counts/sci_counts.csv\"\n",
    "adv_counts = \"./Counts/adv_counts.csv\""
   ]
  },
  {
   "cell_type": "code",
   "execution_count": null,
   "metadata": {},
   "outputs": [],
   "source": [
    "pol_counts = pd.read_csv(pol_counts[0],index_col=0).append(pd.read_csv(pol_counts[1], index_col=0))\n",
    "sci_counts = pd.read_csv(sci_counts, index_col=0)\n",
    "news_counts = pd.read_csv(news_counts, index_col=0)\n",
    "adv_counts = pd.read_csv(adv_counts, index_col=0)"
   ]
  },
  {
   "cell_type": "code",
   "execution_count": null,
   "metadata": {},
   "outputs": [],
   "source": [
    "def countWords(text):\n",
    "    try:\n",
    "        return min(1,len(text.split(\" \")))\n",
    "    except Exception:\n",
    "        return 0"
   ]
  },
  {
   "cell_type": "code",
   "execution_count": null,
   "metadata": {},
   "outputs": [],
   "source": [
    "pol_counts.loc[:,\"board\"] = \"pol\"\n",
    "sci_counts.loc[:,\"board\"] = \"sci\"\n",
    "adv_counts.loc[:,\"board\"] = \"adv\"\n",
    "news_counts.loc[:,\"board\"] = \"news\""
   ]
  },
  {
   "cell_type": "code",
   "execution_count": null,
   "metadata": {},
   "outputs": [],
   "source": [
    "for df in [pol_counts,sci_counts,adv_counts,news_counts]:\n",
    "    df.loc[:,\"hate_count\"] = df.loc[:,\"matched_vocab\"].map(countWords)\n",
    "    df.loc[:,'date'] = pd.to_datetime(df.loc[:,\"timestamp\"], unit='s')\n",
    "    df.loc[:,'month'] = pd.to_datetime(df.loc[:,\"date\"]).dt.to_period('M')"
   ]
  },
  {
   "cell_type": "code",
   "execution_count": null,
   "metadata": {},
   "outputs": [],
   "source": [
    "pol_hate_share_monthly = pol_counts.groupby(\"month\").sum()[\"hate_count\"] / pol_counts.groupby(\"month\")[\"content\"].count()\n",
    "sci_hate_share_monthly = sci_counts.groupby(\"month\").sum()[\"hate_count\"] / sci_counts.groupby(\"month\")[\"content\"].count()\n",
    "adv_hate_share_monthly = adv_counts.groupby(\"month\").sum()[\"hate_count\"] / adv_counts.groupby(\"month\")[\"content\"].count()\n",
    "news_hate_share_monthly = news_counts.groupby(\"month\").sum()[\"hate_count\"] / news_counts.groupby(\"month\")[\"content\"].count()"
   ]
  },
  {
   "cell_type": "code",
   "execution_count": null,
   "metadata": {},
   "outputs": [],
   "source": [
    "hate_share_monthly = pd.DataFrame(index=sci_hate_share_monthly.index, columns=[\"sci\",\"news\",\"adv\",\"pol\"])\n",
    "hate_share_monthly.loc[sci_hate_share_monthly.index, \"sci\"] = sci_hate_share_monthly\n",
    "hate_share_monthly.loc[:,'news'] = news_hate_share_monthly\n",
    "hate_share_monthly.loc[:, \"adv\"] = adv_hate_share_monthly\n",
    "hate_share_monthly.loc[:, \"pol\"] = pol_hate_share_monthly"
   ]
  },
  {
   "cell_type": "markdown",
   "metadata": {},
   "source": [
    "select date range of interest"
   ]
  },
  {
   "cell_type": "code",
   "execution_count": null,
   "metadata": {},
   "outputs": [],
   "source": [
    "for k, temp in temperatures.items():\n",
    "    temperatures[k] = temp.loc[hate_share_monthly.index].dropna()"
   ]
  },
  {
   "cell_type": "code",
   "execution_count": null,
   "metadata": {},
   "outputs": [],
   "source": [
    "temperatures_avg = temperatures_avg.loc[hate_share_monthly.index]"
   ]
  },
  {
   "cell_type": "code",
   "execution_count": null,
   "metadata": {},
   "outputs": [],
   "source": [
    "temperatures[\"denv\"].count()"
   ]
  },
  {
   "cell_type": "markdown",
   "metadata": {},
   "source": [
    "***Standardize data***"
   ]
  },
  {
   "cell_type": "code",
   "execution_count": null,
   "metadata": {},
   "outputs": [],
   "source": [
    "def standardize(data: pd.Series) -> pd.Series:\n",
    "    return (data - data.median()) / data.std()"
   ]
  },
  {
   "cell_type": "code",
   "execution_count": null,
   "metadata": {},
   "outputs": [],
   "source": [
    "hate_share_monthly = hate_share_monthly.apply(standardize, axis=0)\n",
    "for k, temp in temperatures.items():\n",
    "    temperatures[k] = temp.apply(standardize, axis=0)\n",
    "temperatures_avg = temperatures_avg.apply(standardize)"
   ]
  },
  {
   "cell_type": "markdown",
   "metadata": {},
   "source": [
    "***Plot temperatures***"
   ]
  },
  {
   "cell_type": "code",
   "execution_count": null,
   "metadata": {},
   "outputs": [],
   "source": [
    "temperatures[\"denv\"].plot.line()"
   ]
  },
  {
   "cell_type": "markdown",
   "metadata": {},
   "source": [
    "***Calculate covariances***"
   ]
  },
  {
   "cell_type": "code",
   "execution_count": null,
   "metadata": {},
   "outputs": [],
   "source": [
    "temp_denv_cov = temperatures[\"denv\"].join(hate_share_monthly).cov()\n",
    "temp_wash_cov = temperatures[\"wash\"].join(hate_share_monthly).cov()\n",
    "temp_sanfran_cov = temperatures[\"sanfran\"].join(hate_share_monthly).cov()"
   ]
  },
  {
   "cell_type": "code",
   "execution_count": null,
   "metadata": {},
   "outputs": [],
   "source": [
    "temperatures_avg_cov = temperatures_avg.join(hate_share_monthly).cov()"
   ]
  },
  {
   "cell_type": "markdown",
   "metadata": {},
   "source": [
    "***Plot covariances***"
   ]
  },
  {
   "cell_type": "code",
   "execution_count": null,
   "metadata": {},
   "outputs": [],
   "source": [
    "def heatmap(data):\n",
    "    mask = np.zeros_like(data.to_numpy())\n",
    "    mask[np.triu_indices_from(mask)] = True\n",
    "    with sb.axes_style(\"white\"):\n",
    "        ax = sb.heatmap(data.to_numpy(), mask=mask, vmax=1.0, vmin=-1, center=0, square=True, xticklabels=data.index, yticklabels=data.index)\n",
    "        plt.show()"
   ]
  },
  {
   "cell_type": "code",
   "execution_count": null,
   "metadata": {},
   "outputs": [],
   "source": [
    "heatmap(temp_denv_cov)"
   ]
  },
  {
   "cell_type": "code",
   "execution_count": null,
   "metadata": {},
   "outputs": [],
   "source": [
    "temperatures_avg.plot.line()"
   ]
  },
  {
   "cell_type": "code",
   "execution_count": null,
   "metadata": {},
   "outputs": [],
   "source": [
    "heatmap(temperatures_avg_cov)"
   ]
  }
 ],
 "metadata": {
  "interpreter": {
   "hash": "b7fa378472cf101e707a5468465ac7543fc3c373c0c5f6dc4778db26bbb1e212"
  },
  "kernelspec": {
   "display_name": "Python 3.9.7 ('base')",
   "language": "python",
   "name": "python3"
  },
  "language_info": {
   "codemirror_mode": {
    "name": "ipython",
    "version": 3
   },
   "file_extension": ".py",
   "mimetype": "text/x-python",
   "name": "python",
   "nbconvert_exporter": "python",
   "pygments_lexer": "ipython3",
   "version": "3.9.7"
  },
  "orig_nbformat": 4
 },
 "nbformat": 4,
 "nbformat_minor": 2
}
